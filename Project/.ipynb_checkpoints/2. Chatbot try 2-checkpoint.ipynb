{
 "cells": [
  {
   "cell_type": "code",
   "execution_count": 1,
   "metadata": {},
   "outputs": [],
   "source": [
    "import re, json\n",
    "import random\n",
    "import spacy \n",
    "import numpy as np\n",
    "import en_core_web_sm\n",
    "from nltk.stem import WordNetLemmatizer\n",
    "import nltk"
   ]
  },
  {
   "cell_type": "code",
   "execution_count": 2,
   "metadata": {},
   "outputs": [],
   "source": [
    "# Load the spacy model: nlp\n",
    "nlp = en_core_web_sm.load()\n",
    "lemmatizer = WordNetLemmatizer()\n",
    "# !python -m spacy download en"
   ]
  },
  {
   "cell_type": "code",
   "execution_count": 53,
   "metadata": {},
   "outputs": [],
   "source": [
    "# import our chat-bot intents file\n",
    "with open('data/intents.json') as json_data:\n",
    "    intents = json.load(json_data)"
   ]
  },
  {
   "cell_type": "code",
   "execution_count": 35,
   "metadata": {},
   "outputs": [
    {
     "data": {
      "text/plain": [
       "{'goodbye': re.compile(r'bye|see you later|goodbye', re.UNICODE),\n",
       " 'greeting': re.compile(r'hi|how are you|is anyone there|hello|good day|hey',\n",
       " re.UNICODE),\n",
       " 'thanks': re.compile(r\"thanks|thank you|that's helpful\", re.UNICODE)}"
      ]
     },
     "execution_count": 35,
     "metadata": {},
     "output_type": "execute_result"
    }
   ],
   "source": [
    "patterns = {}\n",
    "for intent in intents['intents']:\n",
    "    patterns[intent['tag']] = re.compile('|'.join(intent['patterns']))\n",
    "    \n",
    "patterns"
   ]
  },
  {
   "cell_type": "code",
   "execution_count": 36,
   "metadata": {},
   "outputs": [],
   "source": [
    "# Define a function to find the intent of a message\n",
    "def match_intent(message):\n",
    "    matched_intent = None\n",
    "    for intent, pattern in patterns.items():\n",
    "        # Check if the pattern occurs in the message \n",
    "        if pattern.search(message) :\n",
    "            matched_intent = intent\n",
    "    return matched_intent"
   ]
  },
  {
   "cell_type": "markdown",
   "metadata": {},
   "source": [
    "## Create a dictionary of rules and get responses"
   ]
  },
  {
   "cell_type": "code",
   "execution_count": 57,
   "metadata": {},
   "outputs": [
    {
     "name": "stdout",
     "output_type": "stream",
     "text": [
      "{'tag': 'topN', 'patterns': 'What are the top (.*) hotels (.*) ', 'responses': ['The Top {0} hotels are {1}']}\n",
      "{'tag': 'review', 'patterns': 'What (is|are) the (review|reviews) for (.*)', 'responses': ['The review for {0}: ']}\n",
      "{'tag': 'amenities', 'patterns': 'Does hotel (.*) have good (.*)', 'responses': ['The review for {0}: ']}\n",
      "{'tag': 'best', 'patterns': 'Which is the best hotel (.*)', 'responses': ['The review for {0}: ']}\n"
     ]
    },
    {
     "data": {
      "text/plain": [
       "{'Does hotel (.*) have good (.*)': ['The review for {0}: '],\n",
       " 'What (is|are) the (review|reviews) for (.*)': ['The review for {0}: '],\n",
       " 'What are the top (.*) hotels (.*) ': ['The Top {0} hotels are {1}'],\n",
       " 'Which is the best hotel (.*)': ['The review for {0}: ']}"
      ]
     },
     "execution_count": 57,
     "metadata": {},
     "output_type": "execute_result"
    }
   ],
   "source": [
    "rules = {}\n",
    "for intent in intents['rules']:\n",
    "    print(intent)\n",
    "    rules[intent['patterns']] = intent['responses']\n",
    "    \n",
    "rules"
   ]
  },
  {
   "cell_type": "code",
   "execution_count": 67,
   "metadata": {},
   "outputs": [],
   "source": [
    "def get_num_groups(regex):\n",
    "    return re.compile(regex).groups"
   ]
  },
  {
   "cell_type": "code",
   "execution_count": 70,
   "metadata": {},
   "outputs": [
    {
     "name": "stdout",
     "output_type": "stream",
     "text": [
      "Pattern:  What are the top (.*) hotels (.*) \n",
      "Num groups:  2\n",
      "Pattern:  What (is|are) the (review|reviews) for (.*)\n",
      "Num groups:  3\n",
      "Response The review for {0}: \n",
      "hotel Abra\n",
      "is\n",
      "Pattern:  Does hotel (.*) have good (.*)\n",
      "Num groups:  2\n",
      "Pattern:  Which is the best hotel (.*)\n",
      "Num groups:  1\n",
      "('The review for {0}: ', 'is')\n"
     ]
    }
   ],
   "source": [
    "# Define match_rule()\n",
    "def match_rule(rules, message):\n",
    "    response, phrase = \"default\", None\n",
    "    \n",
    "    # Iterate over the rules dictionary\n",
    "    for pattern, responseList in rules.items():\n",
    "#         print(responseList)\n",
    "        # Create a match object\n",
    "        match = re.search(pattern, message)\n",
    "        num_groups = get_num_groups(pattern))\n",
    "#         print(re.search(pattern, message))\n",
    "#         print(pattern)\n",
    "        if match is not None:\n",
    "            # Choose a random response\n",
    "            response = random.choice(responseList)\n",
    "            print(\"Response\",response)\n",
    "            print(match.group(3))\n",
    "            if '{0}' in response:\n",
    "                phrase = match.group(num_groups-1)\n",
    "                print(match.group(num_groups-1))\n",
    "            if '{1}' in response:\n",
    "                phrase = match.group(num_groups-2)\n",
    "                print(match.group(num_groups-2))\n",
    "    # Return the response and phrase\n",
    "    return response, phrase\n",
    "\n",
    "# Test match_rule\n",
    "print(match_rule(rules, \"What is the review for hotel Abra\"))\n"
   ]
  },
  {
   "cell_type": "code",
   "execution_count": 28,
   "metadata": {},
   "outputs": [
    {
     "data": {
      "text/plain": [
       "dict_items([('topN', ['What are the top (.*) hotels (.*) ']), ('review', ['What are the reviews for (.*)']), ('amenities', ['Does hotel (.*) have good (.*)']), ('best', ['Which is the best hotel (.*)'])])"
      ]
     },
     "execution_count": 28,
     "metadata": {},
     "output_type": "execute_result"
    }
   ],
   "source": [
    "rules.items()"
   ]
  }
 ],
 "metadata": {
  "kernelspec": {
   "display_name": "Python 3",
   "language": "python",
   "name": "python3"
  },
  "language_info": {
   "codemirror_mode": {
    "name": "ipython",
    "version": 3
   },
   "file_extension": ".py",
   "mimetype": "text/x-python",
   "name": "python",
   "nbconvert_exporter": "python",
   "pygments_lexer": "ipython3",
   "version": "3.6.4"
  }
 },
 "nbformat": 4,
 "nbformat_minor": 2
}
