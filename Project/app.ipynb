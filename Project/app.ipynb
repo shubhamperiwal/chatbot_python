{
 "cells": [
  {
   "cell_type": "code",
   "execution_count": 1,
   "metadata": {},
   "outputs": [],
   "source": [
    "from Chatbot import Chatbot\n",
    "\n",
    "message = \"\"\n",
    "chatbot = Chatbot()\n"
   ]
  },
  {
   "cell_type": "code",
   "execution_count": null,
   "metadata": {},
   "outputs": [
    {
     "name": "stdout",
     "output_type": "stream",
     "text": [
      "User: Hello!\n",
      "Bot:  Hello, my name is AirBot! It's a pleasure to talk to you. You can ask me whatever you want and when you're done, just say 'Bye'\n",
      "User: What are the top 5 hotels?\n",
      "Bot:  The best hotels for you are: Venice Beach Walkstreet Guesthouse,Best Beach Bed Breakfast & Bikes 1,Bedroom w/ shower private entrance,West Los Angeles House with Huge Yard,MY LITTLE PARIS IN LOS ANGELES With free parking.\n",
      "User: What are the top 5 hotels below $100 in Venice?\n",
      "Bot:  The best hotels for you are: The Venice Beach Garagement,Venice Bungalow, Abbot Kinney/Beach,WALK to BEACH-10mins! FREE-BREAKFAST+Prk+WiFi-RM3,Great Private Room in Venice Beach,Tracy's Angel room* Feel the Magic\n"
     ]
    }
   ],
   "source": [
    "while(\"bye\" not in message.lower()):\n",
    "    message = input(\"User: \")\n",
    "    response = chatbot.get_response(message)\n",
    "    print(\"Bot: \", response)"
   ]
  },
  {
   "cell_type": "code",
   "execution_count": null,
   "metadata": {},
   "outputs": [],
   "source": []
  }
 ],
 "metadata": {
  "kernelspec": {
   "display_name": "Python 3",
   "language": "python",
   "name": "python3"
  },
  "language_info": {
   "codemirror_mode": {
    "name": "ipython",
    "version": 3
   },
   "file_extension": ".py",
   "mimetype": "text/x-python",
   "name": "python",
   "nbconvert_exporter": "python",
   "pygments_lexer": "ipython3",
   "version": "3.6.4"
  }
 },
 "nbformat": 4,
 "nbformat_minor": 2
}
