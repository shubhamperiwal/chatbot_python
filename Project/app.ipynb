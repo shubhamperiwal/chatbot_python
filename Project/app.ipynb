{
 "cells": [
  {
   "cell_type": "code",
   "execution_count": 10,
   "metadata": {},
   "outputs": [],
   "source": [
    "from Chatbot import Chatbot\n",
    "\n",
    "message = \"\"\n",
    "chatbot = Chatbot()\n"
   ]
  },
  {
   "cell_type": "code",
   "execution_count": 11,
   "metadata": {},
   "outputs": [
    {
     "name": "stdout",
     "output_type": "stream",
     "text": [
      "User: What is the rating of Venice Beach Cabana?\n",
      "rating The rating of Venice Beach Cabana: \n",
      "Bot:  The rating for Venice Beach Cabana is 95.0\n",
      "User: bye\n",
      "Bot:  Bye! Come back again soon\n"
     ]
    }
   ],
   "source": [
    "while(\"bye\" not in message.lower()):\n",
    "    message = input(\"User: \")\n",
    "    response = chatbot.get_response(message)\n",
    "    print(\"Bot: \", response)"
   ]
  },
  {
   "cell_type": "code",
   "execution_count": null,
   "metadata": {},
   "outputs": [],
   "source": []
  }
 ],
 "metadata": {
  "kernelspec": {
   "display_name": "Python 3",
   "language": "python",
   "name": "python3"
  },
  "language_info": {
   "codemirror_mode": {
    "name": "ipython",
    "version": 3
   },
   "file_extension": ".py",
   "mimetype": "text/x-python",
   "name": "python",
   "nbconvert_exporter": "python",
   "pygments_lexer": "ipython3",
   "version": "3.6.4"
  }
 },
 "nbformat": 4,
 "nbformat_minor": 2
}
