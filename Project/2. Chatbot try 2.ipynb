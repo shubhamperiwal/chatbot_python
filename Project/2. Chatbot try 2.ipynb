{
 "cells": [
  {
   "cell_type": "code",
   "execution_count": 1,
   "metadata": {},
   "outputs": [],
   "source": [
    "import re, json\n",
    "import random\n",
    "import spacy \n",
    "import numpy as np\n",
    "import en_core_web_sm\n",
    "from nltk.stem import WordNetLemmatizer\n",
    "import nltk"
   ]
  },
  {
   "cell_type": "code",
   "execution_count": 2,
   "metadata": {},
   "outputs": [],
   "source": [
    "# Load the spacy model: nlp\n",
    "nlp = en_core_web_sm.load()\n",
    "lemmatizer = WordNetLemmatizer()\n",
    "# !python -m spacy download en"
   ]
  },
  {
   "cell_type": "markdown",
   "metadata": {},
   "source": [
    "## Preprocess query"
   ]
  },
  {
   "cell_type": "code",
   "execution_count": 51,
   "metadata": {},
   "outputs": [],
   "source": [
    "def clean(text, pos=False):\n",
    "    text = text.lower()\n",
    "    text_list = [word for word in text.split()]\n",
    "    #If last word has a question mark attached, that gets removed also.\n",
    "    text_regex = [word for word in text_list if re.search('^[a-z0-9]+$',word)]\n",
    "    final_text = [lemmatizer.lemmatize(word) for word in text_regex]\n",
    "    if(pos):         #If POS is true, then attach tag\n",
    "        final_text = nltk.pos_tag(final_text)\n",
    "    return final_text"
   ]
  },
  {
   "cell_type": "code",
   "execution_count": 52,
   "metadata": {},
   "outputs": [],
   "source": [
    "def listToString(inputList):\n",
    "    return ' '.join(inputList)"
   ]
  },
  {
   "cell_type": "markdown",
   "metadata": {},
   "source": [
    "## Intent-Entity match "
   ]
  },
  {
   "cell_type": "code",
   "execution_count": 80,
   "metadata": {},
   "outputs": [],
   "source": [
    "default_response = \"Sorry, I could not understand you.\""
   ]
  },
  {
   "cell_type": "code",
   "execution_count": 81,
   "metadata": {},
   "outputs": [],
   "source": [
    "def get_response_from_intent(matched_intent):\n",
    "    response = default_response\n",
    "    for intent in intents['intents']:\n",
    "        \n",
    "        if(intent['tag']==matched_intent):\n",
    "            response = random.choice(intent['responses'])\n",
    "    return response"
   ]
  },
  {
   "cell_type": "code",
   "execution_count": 85,
   "metadata": {},
   "outputs": [],
   "source": [
    "# import our chat-bot intents file\n",
    "with open('data/intents.json') as json_data:\n",
    "    intents = json.load(json_data)"
   ]
  },
  {
   "cell_type": "code",
   "execution_count": 86,
   "metadata": {},
   "outputs": [
    {
     "data": {
      "text/plain": [
       "{'goodbye': re.compile(r'bye|see you later|goodbye', re.UNICODE),\n",
       " 'greeting': re.compile(r'hi|how are you|is anyone there|hello|good day|hey',\n",
       " re.UNICODE),\n",
       " 'thanks': re.compile(r\"thanks|thank you|that's helpful\", re.UNICODE)}"
      ]
     },
     "execution_count": 86,
     "metadata": {},
     "output_type": "execute_result"
    }
   ],
   "source": [
    "patterns = {}\n",
    "for intent in intents['intents']:\n",
    "    patterns[intent['tag']] = re.compile('|'.join(intent['patterns']))\n",
    "    \n",
    "patterns"
   ]
  },
  {
   "cell_type": "code",
   "execution_count": 87,
   "metadata": {},
   "outputs": [],
   "source": [
    "# Define a function to find the intent of a message\n",
    "def match_intent(message):\n",
    "    matched_intent = None\n",
    "    for intent, pattern in patterns.items():\n",
    "        # Check if the pattern occurs in the message \n",
    "        if pattern.search(message) :\n",
    "            matched_intent = intent\n",
    "        \n",
    "    return matched_intent"
   ]
  },
  {
   "cell_type": "markdown",
   "metadata": {},
   "source": [
    "## Create a dictionary of rules and get responses"
   ]
  },
  {
   "cell_type": "code",
   "execution_count": 88,
   "metadata": {},
   "outputs": [],
   "source": [
    "def get_num_groups(regex):\n",
    "    return re.compile(regex).groups"
   ]
  },
  {
   "cell_type": "code",
   "execution_count": 89,
   "metadata": {},
   "outputs": [
    {
     "name": "stdout",
     "output_type": "stream",
     "text": [
      "{'tag': 'topN', 'patterns': 'what (is|are) the top (.*) hotel (.*)', 'responses': ['The Top {1} hotels {0} are: ']}\n",
      "{'tag': 'review', 'patterns': 'what (is|are) the (review|reviews) for (.*)', 'responses': ['The review for {0}: ']}\n",
      "{'tag': 'amenities', 'patterns': 'doe (.*) have good (.*)', 'responses': ['The review for {1}: ']}\n",
      "{'tag': 'best', 'patterns': 'which is the best hotel (.*)', 'responses': ['The review for {0}: ']}\n"
     ]
    },
    {
     "data": {
      "text/plain": [
       "{'doe (.*) have good (.*)': ['The review for {1}: '],\n",
       " 'what (is|are) the (review|reviews) for (.*)': ['The review for {0}: '],\n",
       " 'what (is|are) the top (.*) hotel (.*)': ['The Top {1} hotels {0} are: '],\n",
       " 'which is the best hotel (.*)': ['The review for {0}: ']}"
      ]
     },
     "execution_count": 89,
     "metadata": {},
     "output_type": "execute_result"
    }
   ],
   "source": [
    "rules = {}\n",
    "for intent in intents['rules']:\n",
    "    print(intent)\n",
    "    rules[intent['patterns']] = intent['responses']\n",
    "    \n",
    "rules"
   ]
  },
  {
   "cell_type": "code",
   "execution_count": 90,
   "metadata": {},
   "outputs": [
    {
     "name": "stdout",
     "output_type": "stream",
     "text": [
      "hotel abru chu\n",
      "('The review for hotel abru chu: ', 'hotel abru chu')\n",
      "doe hotel abru chu have good review\n"
     ]
    }
   ],
   "source": [
    "# Define match_rule()\n",
    "def match_rule(rules, message):\n",
    "    response, phrase = default_response, None\n",
    "    \n",
    "    # Iterate over the rules dictionary\n",
    "    for pattern, responseList in rules.items():\n",
    "        # Create a match object\n",
    "        match = re.search(pattern, message)\n",
    "        num_groups = get_num_groups(pattern)\n",
    "        \n",
    "        if match is not None:\n",
    "            # Choose a random response\n",
    "            response = random.choice(responseList)\n",
    "        \n",
    "            if '{0}' in response:\n",
    "                phrase = match.group(num_groups)\n",
    "                response = response.replace('{0}', phrase)\n",
    "                print(match.group(num_groups))\n",
    "            \n",
    "            if '{1}' in response:\n",
    "                phrase = match.group(num_groups-1)\n",
    "                response = response.replace('{1}', phrase)\n",
    "                print(match.group(num_groups-1))\n",
    "                \n",
    "    # Return the response and phrase\n",
    "    return response, phrase\n",
    "\n",
    "# Test match_rule\n",
    "# print(match_rule(rules, \"What is the review for hotel Abra\"))\n",
    "# print(match_rule(rules, listToString(clean(\"What are the top 5 hotel in LA\"))))\n",
    "print(match_rule(rules, listToString(clean(\"Does hotel Abru Chu have good reviews\"))))\n",
    "\n",
    "print(listToString(clean(\"Does hotel Abru Chu have good reviews\")))\n"
   ]
  },
  {
   "cell_type": "code",
   "execution_count": 91,
   "metadata": {},
   "outputs": [],
   "source": [
    "def get_response(message):\n",
    "    response=\"Sorry, I could not understand you\"\n",
    "    clean_message = clean(message)\n",
    "    clean_string = listToString(clean_message)\n",
    "    intent = match_intent(clean_string)\n",
    "    if(intent is not None):\n",
    "        response = get_response_from_intent(intent)\n",
    "    else:\n",
    "        response = match_rule(rules, clean_string)[0]\n",
    "    return response"
   ]
  },
  {
   "cell_type": "markdown",
   "metadata": {},
   "source": [
    "## Test the Chatbot"
   ]
  },
  {
   "cell_type": "code",
   "execution_count": 93,
   "metadata": {},
   "outputs": [
    {
     "name": "stdout",
     "output_type": "stream",
     "text": [
      "Does Abru Chu have good reviews\n",
      "abru chu\n",
      "The review for abru chu: \n"
     ]
    }
   ],
   "source": [
    "message = input()\n",
    "response = get_response(message)\n",
    "print(response)"
   ]
  },
  {
   "cell_type": "code",
   "execution_count": null,
   "metadata": {},
   "outputs": [],
   "source": []
  }
 ],
 "metadata": {
  "kernelspec": {
   "display_name": "Python 3",
   "language": "python",
   "name": "python3"
  },
  "language_info": {
   "codemirror_mode": {
    "name": "ipython",
    "version": 3
   },
   "file_extension": ".py",
   "mimetype": "text/x-python",
   "name": "python",
   "nbconvert_exporter": "python",
   "pygments_lexer": "ipython3",
   "version": "3.6.4"
  }
 },
 "nbformat": 4,
 "nbformat_minor": 2
}
