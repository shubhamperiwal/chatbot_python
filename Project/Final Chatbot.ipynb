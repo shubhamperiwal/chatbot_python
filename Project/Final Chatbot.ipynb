{
 "cells": [
  {
   "cell_type": "code",
   "execution_count": 2,
   "metadata": {},
   "outputs": [],
   "source": [
    "import re, json\n",
    "import random\n",
    "import spacy \n",
    "import numpy as np\n",
    "import en_core_web_sm\n",
    "from nltk.stem import WordNetLemmatizer\n",
    "import nltk\n",
    "import pandas as pd"
   ]
  },
  {
   "cell_type": "code",
   "execution_count": 3,
   "metadata": {},
   "outputs": [],
   "source": [
    "# Load the spacy model: nlp\n",
    "nlp = en_core_web_sm.load()\n",
    "lemmatizer = WordNetLemmatizer()\n",
    "# !python -m spacy download en"
   ]
  },
  {
   "cell_type": "markdown",
   "metadata": {},
   "source": [
    "## Preprocess query"
   ]
  },
  {
   "cell_type": "code",
   "execution_count": 4,
   "metadata": {},
   "outputs": [],
   "source": [
    "def clean(text, pos=False):\n",
    "    text = text.lower()\n",
    "    text = re.sub(r'[^\\w\\s\\$]','',text)\n",
    "    text_list = [word for word in text.split()]\n",
    "    #If last word has a question mark attached, that gets removed also.\n",
    "    text_regex = [word for word in text_list if re.search('^[a-z0-9$]+$',word)]\n",
    "    final_text = [lemmatizer.lemmatize(word) for word in text_regex]\n",
    "    if(pos):         #If POS is true, then attach tag\n",
    "        final_text = nltk.pos_tag(final_text)\n",
    "    return final_text"
   ]
  },
  {
   "cell_type": "code",
   "execution_count": 5,
   "metadata": {},
   "outputs": [],
   "source": [
    "def listToString(inputList, sep=' '):\n",
    "    return sep.join(inputList)"
   ]
  },
  {
   "cell_type": "markdown",
   "metadata": {},
   "source": [
    "## Intent-Entity match "
   ]
  },
  {
   "cell_type": "code",
   "execution_count": 6,
   "metadata": {},
   "outputs": [],
   "source": [
    "default_response = \"Sorry,asdfadsasd I could not understand you.\""
   ]
  },
  {
   "cell_type": "code",
   "execution_count": 7,
   "metadata": {},
   "outputs": [],
   "source": [
    "def get_response_from_intent(matched_intent):\n",
    "    response = default_response\n",
    "    for intent in intents['intents']:\n",
    "        \n",
    "        if(intent['tag']==matched_intent):\n",
    "            response = random.choice(intent['responses'])\n",
    "    return response"
   ]
  },
  {
   "cell_type": "code",
   "execution_count": 8,
   "metadata": {},
   "outputs": [],
   "source": [
    "# import our chat-bot intents file\n",
    "with open('data/intents.json') as json_data:\n",
    "    intents = json.load(json_data)"
   ]
  },
  {
   "cell_type": "code",
   "execution_count": 9,
   "metadata": {},
   "outputs": [
    {
     "data": {
      "text/plain": [
       "{'goodbye': re.compile(r'bye|see you later|goodbye', re.UNICODE),\n",
       " 'greeting': re.compile(r'hi|how are you|is anyone there|hello|good day|hey',\n",
       " re.UNICODE),\n",
       " 'thanks': re.compile(r\"thanks|thank you|that's helpful\", re.UNICODE)}"
      ]
     },
     "execution_count": 9,
     "metadata": {},
     "output_type": "execute_result"
    }
   ],
   "source": [
    "patterns = {}\n",
    "for intent in intents['intents']:\n",
    "    patterns[intent['tag']] = re.compile('|'.join(intent['patterns']))\n",
    "    \n",
    "patterns"
   ]
  },
  {
   "cell_type": "code",
   "execution_count": 10,
   "metadata": {},
   "outputs": [],
   "source": [
    "# Define a function to find the intent of a message\n",
    "def match_intent(message):\n",
    "    matched_intent = None\n",
    "    for intent, pattern in patterns.items():\n",
    "        # Check if the pattern occurs in the message \n",
    "        if pattern.search(message) :\n",
    "            matched_intent = intent\n",
    "        \n",
    "    return matched_intent"
   ]
  },
  {
   "cell_type": "markdown",
   "metadata": {},
   "source": [
    "## Entity Recognizer"
   ]
  },
  {
   "cell_type": "code",
   "execution_count": 11,
   "metadata": {},
   "outputs": [],
   "source": [
    "# Define included entities\n",
    "include_entities = ['CARDINAL', 'MONEY', 'GPE']\n",
    "\n",
    "# Define extract_entities()\n",
    "def extract_entities(message):\n",
    "    # Create a dict to hold the entities\n",
    "    ents = dict.fromkeys(include_entities)\n",
    "    # Create a spacy document\n",
    "    doc = nlp(message)\n",
    "    for ent in doc.ents:\n",
    "        if ent.label_ in include_entities:\n",
    "            # Save interesting entities\n",
    "            ents[ent.label_] = ent.text\n",
    "    return ents\n",
    "\n",
    "# print(extract_entities('What are the top 5 hotels in Venice below $100\"'))\n",
    "# print(extract_entities('terms of location'))\n"
   ]
  },
  {
   "cell_type": "markdown",
   "metadata": {},
   "source": [
    "## POS Tagging"
   ]
  },
  {
   "cell_type": "code",
   "execution_count": 12,
   "metadata": {},
   "outputs": [],
   "source": [
    "def getFeatureCriteria(sent):\n",
    "    sent = [word for word in sent.split()]\n",
    "    tagged_sent = nltk.pos_tag(sent)\n",
    "    feature=None\n",
    "    for tag in tagged_sent:\n",
    "        if(tag[1]=='NN'):\n",
    "            feature=tag[0]\n",
    "    return feature"
   ]
  },
  {
   "cell_type": "code",
   "execution_count": 13,
   "metadata": {},
   "outputs": [],
   "source": [
    "def getHotelRating(hotel):\n",
    "            criteria='review_scores_rating'\n",
    "            return df[df['name']==hotel][criteria].values[0]"
   ]
  },
  {
   "cell_type": "code",
   "execution_count": 14,
   "metadata": {},
   "outputs": [
    {
     "data": {
      "text/plain": [
       "'venice'"
      ]
     },
     "execution_count": 14,
     "metadata": {},
     "output_type": "execute_result"
    }
   ],
   "source": [
    "getFeatureCriteria(\"in venice\")"
   ]
  },
  {
   "cell_type": "markdown",
   "metadata": {},
   "source": [
    "## Query the database"
   ]
  },
  {
   "cell_type": "code",
   "execution_count": 15,
   "metadata": {},
   "outputs": [],
   "source": [
    "df = pd.read_csv('data/listings_clean.csv')"
   ]
  },
  {
   "cell_type": "code",
   "execution_count": 16,
   "metadata": {},
   "outputs": [],
   "source": [
    "def getTopKHotelsCriteria(df, k, criteria=None):\n",
    "    if(criteria is None):\n",
    "        return df.sort_values('review_scores_rating', ascending=False).head(k).name.values\n",
    "    else:\n",
    "        entities = extract_entities(criteria)\n",
    "        neighbourhood = entities['GPE']\n",
    "        \n",
    "        if(neighbourhood is not None):\n",
    "            df = df[df['neighbourhood']==neighbourhood]\n",
    "        \n",
    "        price = entities['MONEY']\n",
    "        if(price is not None):   \n",
    "            price = float(price)\n",
    "            greater = True\n",
    "            if(re.search('below|less', criteria)):\n",
    "                greater=False\n",
    "                df = df[df['price']<=price]\n",
    "            else:\n",
    "                df = df[df['price']>=price]\n",
    "        \n",
    "        feature = getFeatureCriteria(criteria)\n",
    "        if(feature is None):\n",
    "            feature='rating'\n",
    "        \n",
    "        criteria='review_scores_'+feature\n",
    "        if(criteria not in df.columns.values):\n",
    "            criteria = 'review_scores_rating'\n",
    "            \n",
    "        return df.sort_values(criteria, ascending=False).head(k).name.values"
   ]
  },
  {
   "cell_type": "code",
   "execution_count": 17,
   "metadata": {},
   "outputs": [],
   "source": [
    "def getFeatureRating(hotel, criteria):\n",
    "    criteria='review_scores_'+criteria\n",
    "    return df[df['name']==hotel][criteria].values[0]"
   ]
  },
  {
   "cell_type": "markdown",
   "metadata": {},
   "source": [
    "## Create a dictionary of rules and get responses"
   ]
  },
  {
   "cell_type": "code",
   "execution_count": 18,
   "metadata": {},
   "outputs": [],
   "source": [
    "def get_num_groups(regex):\n",
    "    return re.compile(regex).groups"
   ]
  },
  {
   "cell_type": "code",
   "execution_count": 19,
   "metadata": {},
   "outputs": [
    {
     "data": {
      "text/plain": [
       "{'doe (.*) have good (.*)': 'amenities',\n",
       " 'what (is|are) the rating of (.*)': 'rating',\n",
       " 'what (is|are) the top (.*) hotel': 'topN',\n",
       " 'what (is|are) the top (.*) hotel (.*)': 'topNWithCondition',\n",
       " 'which is the best hotel (.*)': 'best'}"
      ]
     },
     "execution_count": 19,
     "metadata": {},
     "output_type": "execute_result"
    }
   ],
   "source": [
    "rules = {}\n",
    "tags = {}\n",
    "for intent in intents['rules']:    \n",
    "    rules[intent['patterns']] = intent['responses']\n",
    "    tags[intent['patterns']] = intent['tag']\n",
    "    \n",
    "tags"
   ]
  },
  {
   "cell_type": "code",
   "execution_count": 20,
   "metadata": {},
   "outputs": [],
   "source": [
    "# Define match_rule()\n",
    "def match_rule(rules, message, actual_message): #message refers to clean_version\n",
    "    response, keywords, tag = default_response, [], None\n",
    "    \n",
    "    # Iterate over the rules dictionary\n",
    "    for pattern, responseList in rules.items():\n",
    "        # Create a match object\n",
    "        match = re.search(pattern, message)\n",
    "        num_groups = get_num_groups(pattern)        \n",
    "        if match is not None:\n",
    "            # Choose a random response\n",
    "            tag = tags[pattern]\n",
    "            response = random.choice(responseList)\n",
    "        \n",
    "            if '{0}' in response:\n",
    "                #fix case of keyword found\n",
    "                keyword = match.group(num_groups)\n",
    "                #index in actual message\n",
    "                index = actual_message.lower().index(keyword)\n",
    "#                 print(keyword, index, actual_message[index: index+len(keyword)], actual_message)\n",
    "                keywords.append(actual_message[index: index+len(keyword)])\n",
    "                response = response.replace('{0}', keywords[0])\n",
    "                \n",
    "            \n",
    "            if '{1}' in response:                \n",
    "                keyword = match.group(num_groups-1)\n",
    "                #index in actual message\n",
    "                index = actual_message.lower().index(keyword)\n",
    "                keywords.append(actual_message[index: index+len(keyword)])\n",
    "                response = response.replace('{1}', keywords[1])\n",
    "                \n",
    "    # Return the response and phrase\n",
    "    return response, keywords, tag"
   ]
  },
  {
   "cell_type": "code",
   "execution_count": 23,
   "metadata": {},
   "outputs": [],
   "source": [
    "def get_response(message):\n",
    "    response=\"Sorry,asdfads I could not understand you\"\n",
    "    clean_message = clean(message)\n",
    "    clean_string = listToString(clean_message)\n",
    "    intent = match_intent(clean_string)\n",
    "    \n",
    "    if(intent is not None):\n",
    "        response = get_response_from_intent(intent)\n",
    "    else:\n",
    "        response, keywords, tag = match_rule(rules, clean_string, message)\n",
    "        if(tag==\"topN\"):\n",
    "            if(len(keywords)==1):                \n",
    "                topKHotels = getTopKHotelsCriteria(df, int(keywords[0]))\n",
    "            else:\n",
    "                topKHotels = getTopKHotelsCriteria(df, int(keywords[1]), keywords[0]) \n",
    "            response = \"The best hotels for you are: \"+listToString(topKHotels, sep=',')\n",
    "        if(tag==\"amenities\"):\n",
    "            rating = getFeatureRating(keywords[1], keywords[0])\n",
    "            response = str(\"The rating for \"+keywords[1]+\" in terms of \"+keywords[0]+\" is \"+str(rating))\n",
    "        if(tag==\"rating\"):\n",
    "                rating = getHotelRating(keywords[0])\n",
    "                response = str(\"The rating for \"+keywords[0]+\" is \"+str(rating))\n",
    "            \n",
    "    return response"
   ]
  },
  {
   "cell_type": "markdown",
   "metadata": {},
   "source": [
    "## Test the Chatbot"
   ]
  },
  {
   "cell_type": "code",
   "execution_count": 24,
   "metadata": {},
   "outputs": [
    {
     "name": "stdout",
     "output_type": "stream",
     "text": [
      "USER:  What is the rating of Venice Beach Cabana?\n",
      "BOT:  The rating for Venice Beach Cabana is 95.0\n"
     ]
    }
   ],
   "source": [
    "# message = \"What are the top 5 hotels above $100 in Venice?\"\n",
    "message = \"What is the rating of Venice Beach Cabana?\"\n",
    "# message = \"Does Venice Beach Cabana have good ratings?\"\n",
    "# message = input()\n",
    "response = get_response(message)\n",
    "\n",
    "print(\"USER: \", message)\n",
    "print(\"BOT: \",response)\n",
    "#What are the top 5 hotels?\n"
   ]
  },
  {
   "cell_type": "code",
   "execution_count": 22,
   "metadata": {},
   "outputs": [
    {
     "name": "stdout",
     "output_type": "stream",
     "text": [
      "USER:  Does Venice Beach Cabana have good cleanliness?\n",
      "BOT:  The rating for Venice Beach Cabana in terms of cleanliness is 10.0\n"
     ]
    }
   ],
   "source": [
    "# message = \"What are the top 5 hotels below $100 in Venice\"\n",
    "message = \"Does Venice Beach Cabana have good cleanliness?\"\n",
    "# message = input()\n",
    "response = get_response(message)\n",
    "\n",
    "print(\"USER: \", message)\n",
    "print(\"BOT: \",response)\n",
    "\n",
    "#What are the top 5 hotels?"
   ]
  },
  {
   "cell_type": "code",
   "execution_count": 23,
   "metadata": {},
   "outputs": [
    {
     "name": "stdout",
     "output_type": "stream",
     "text": [
      "User: Thank you! Bye!\n",
      "Bot:  Happy to help!\n"
     ]
    }
   ],
   "source": [
    "message = \"\"\n",
    "while(\"bye\" not in message.lower()):\n",
    "    message = input(\"User: \")\n",
    "    response = get_response(message)\n",
    "    print(\"Bot: \", response)"
   ]
  },
  {
   "cell_type": "code",
   "execution_count": null,
   "metadata": {},
   "outputs": [],
   "source": []
  }
 ],
 "metadata": {
  "kernelspec": {
   "display_name": "Python 3",
   "language": "python",
   "name": "python3"
  },
  "language_info": {
   "codemirror_mode": {
    "name": "ipython",
    "version": 3
   },
   "file_extension": ".py",
   "mimetype": "text/x-python",
   "name": "python",
   "nbconvert_exporter": "python",
   "pygments_lexer": "ipython3",
   "version": "3.6.4"
  }
 },
 "nbformat": 4,
 "nbformat_minor": 2
}
